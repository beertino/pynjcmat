{
 "cells": [
  {
   "cell_type": "markdown",
   "metadata": {},
   "source": [
    "# Introduction \n",
    "\n",
    "Google Colab is running Jupyter Notebook, which is an open-source web application that allows you to create and share documents that contain live code, equations, visualizations and narrative text. \n",
    "\n",
    "The **notebook** you are reading is not a static web page, but an interactive environment that lets you write and execute code. For example, here is a **code cell** with a short Python script that computes a value, stores it in a variable, and prints the result. A code cell has `In [ ]: in front`.\n",
    "\n",
    "Select the cell and press **Run** , the triangle button to the left side of the cell. (or shortcut key `Ctrl + Enter`)."
   ]
  },
  {
   "cell_type": "code",
   "execution_count": null,
   "metadata": {},
   "outputs": [],
   "source": [
    "seconds_in_a_day = 24 * 60 * 60\n",
    "\n",
    "print(seconds_in_a_day)"
   ]
  },
  {
   "cell_type": "markdown",
   "metadata": {},
   "source": [
    "# Statements and Expressions in Python\n",
    "\n",
    "> **Definition**\n",
    ">\n",
    "> A *program* is the actual expression of an algorithm in a specific programming language. It allows the computer to execute the problem solution through a sequence of instructions.\n",
    "\n",
    "In mathematics, we encounter the notion of expression and statement. A mathematical expression is a written arrangement of symbols following the context-dependent, syntactic conventions of mathematical notation. Whereas, a mathematical statement is \n",
    "a declarative sentence that is either true or false but not both.\n",
    "\n",
    "#### Example\n",
    "- $2x + 1 = 0$ is a mathematical expression.\n",
    "- $\\forall x.2x + 1 = 0$ is a mathematical statement.\n",
    "\n",
    "However, in computing, the definition, although kinda related, is different. For the subsequent parts, when we say expression and statement, they refer to the definition given below.\n",
    "\n",
    "> **Definition**\n",
    "> \n",
    ">An *expression* in a programming language is a syntactic entity  that may be evaluated to determine its value.\n",
    "\n",
    "> **Definition**\n",
    "> \n",
    ">A *statement* in a programming language, on the other hand, is a syntactic entity, which has no value (merely an instruction.)\n",
    "\n",
    "#### Example\n",
    ">```python\n",
    ">answers = 1 + 1                 # '1+1' is an expression\n",
    ">\n",
    ">if answers == 2:\n",
    ">   print('Good Outlook')       # print('Good Outlook') is a statement.\n",
    ">```\n",
    "\n",
    "There are typically 3 basic statements:\n",
    "\n",
    "1. Input statements\n",
    "2. Output statements\n",
    "3. Assignment statements\n",
    "\n",
    "In general, input and output (I/O) allows the communication between an information processing system (such as a computer) and an external entity (such as a human).\n",
    "\n",
    "Input is information supplied to a computer or program.\n",
    "\n",
    "Output is information provided by a computer or program.\n",
    "\n",
    "Assignment statements will be elaborated further in the later section.\n",
    "\n",
    "#### Example\n",
    ">```python\n",
    ">#example of input statement. \n",
    ">#The user input is assigned to the variable x\n",
    ">x = input(\"Enter a positive integer value for x: \") \n",
    ">\n",
    ">#print statement to display the output\n",
    ">print(x) \n",
    ">```\n",
    "\n",
    "## Output Statements with `print()` \n",
    "\n",
    "In Python, to get an output, we use the `print()` command. To use it, you put the content you want to output between the parentheses `()`. \n",
    "\n",
    "`print('YOUR_SPECIFIED_MESSAGE')` function prints `YOUR_SPECIFIED_MESSAGE` to the screen, or other standard output device.\n",
    "\n",
    "#### Hands On Activity"
   ]
  },
  {
   "cell_type": "code",
   "execution_count": null,
   "metadata": {},
   "outputs": [],
   "source": [
    "print('change_me_and_try_for_yourself')"
   ]
  },
  {
   "cell_type": "markdown",
   "metadata": {},
   "source": [
    "## Input Statements with `input()` function\n",
    "\n",
    "The `input(MSG_TO_USER)` command allows user input, where `MSG_TO_USER` is the text you want to display to user when you asked for the input. The text is an `str` object. `str` object can pretty much be thought of as text data and in Python, is indicated by a sequence of characters enclosed by single quotes, `'example'` or double quotes `\"another_example\"`. \n",
    "\n",
    "When using `input()`, variable to which the input is assigned to is also of `str` type. \n",
    "\n",
    "#### Hands On Activity"
   ]
  },
  {
   "cell_type": "code",
   "execution_count": null,
   "metadata": {},
   "outputs": [],
   "source": [
    "# feel free to change the content inside the parentheses of input\n",
    "to_print = input('Please enter the content you want to print')\n",
    "print(to_print)"
   ]
  },
  {
   "cell_type": "markdown",
   "metadata": {},
   "source": [
    "#### Exercise\n",
    "Write a program to print out the numbers between 1 and 10 that is divisible by 3. "
   ]
  },
  {
   "cell_type": "code",
   "execution_count": null,
   "metadata": {},
   "outputs": [],
   "source": [
    "# YOUR_CODE_HERE"
   ]
  },
  {
   "cell_type": "markdown",
   "metadata": {},
   "source": [
    "#### Exercise\n",
    "Write a program that asks user to input a number and print out the number."
   ]
  },
  {
   "cell_type": "code",
   "execution_count": null,
   "metadata": {},
   "outputs": [],
   "source": [
    "# YOUR_CODE_HERE"
   ]
  },
  {
   "cell_type": "markdown",
   "metadata": {},
   "source": [
    "### Commenting\n",
    "In Python, comments are used to explain code, making it more readable and easier to understand for others (or your future self). Comments are not executed by the Python interpreter. A single-line comment begins with the `#` symbol, and everything after it on the same line is ignored by Python. Comments are commonly used to describe what a specific line or block of code does, provide context for why something is implemented a certain way, or temporarily disable code during debugging.\n",
    "\n",
    "We have seen the use of comments in the code blocks above. It is a good practice to comment your code consistently."
   ]
  },
  {
   "cell_type": "markdown",
   "metadata": {},
   "source": [
    "# Useful Data Types in Python\n",
    "\n",
    "What is data?\n",
    "\n",
    "> **Definition**\n",
    ">\n",
    "> In computing, a data is defined to be a sequence of one or more symbols. \n",
    "\n",
    "Note that under this definition, data doesn't need to carry information or even be meaningful. However, to make use of data, we need to endow it with more structure and make it meaningful. \n",
    "\n",
    "## The Basic Ones\n",
    "\n",
    "Data can be categorised into different types, i.e. a data type is a category/class of data. The following are 5 basic data types which are found in most programming languages:\n",
    "\n",
    "| No | Data Type             | Definition                                                        | Examples                   | Benefits                                                        | Limitations                                        |\n",
    "|---|-----------------------|-------------------------------------------------------------------|----------------------------|-----------------------------------------------------------------|----------------------------------------------------|\n",
    "| 1 | Integer `int`               | A whole number or number without a fractional part                | `-1`, `0`, `1`, `1000`                | Full precision with finite digits                               | Typically limited to a specific range              |\n",
    "| 2 | Floating Point Number `float`| A number with ( or calculated with) a fractional part              | `-1.5`, `0.1`, $\\tt{\\frac{1}{3}}$,`2.5`, $\\pi$       | Stores rational/irrational numbers with reasonable accuracy     | Not exact; not 100% precise                        |\n",
    "| 3 | Boolean `Boolean`              | Two values representing either true or false in a logic statement | `True`, `False`                | Space efficient when needed to represent values that are binary | Only 2 possible values                             |\n",
    "| 4 | String `str`                | A collection of symbols                                           | `a`, `abc`, `123`, `a string` | Allows for more human-readable information                      | Mapped values cannot be manipulated arithmetically |\n",
    "| 5 | `None`                  |  A null variable or object                                                                 |                            |                                                                 |                                                    |\n",
    "\n",
    "The first three data types corresponds to the integers ($\\mathbb{Z}$), the reals $\\mathbb{R}$ and the Boolean $\\mathbb{B}= \\{\\top,\\bot\\} $ that we are familiar with in mathematics.\n",
    "\n",
    "String data types represents a collection of characters like alphabets, numbers like `'a'`, `'njc'`, `'60'`, `'8x'`. \n",
    "\n",
    "Strings are denoted via the open and closed inverted commas - i.e., the value of the string corresponds to the symbols in between the open and closed inverted commas. In python, 5 and '5' are different \n",
    "\n",
    "We may also manipulate these values by performing various operations on them. Essentially, when we write code, we may form expressions via the use of operators to manipulate data."
   ]
  },
  {
   "cell_type": "markdown",
   "metadata": {},
   "source": [
    "\n",
    "## Operators\n",
    "\n",
    ">An operator is a symbol that *operates* on one or more values, i.e. it is a symbol that represents an action or process. \n",
    "\n",
    "### Assignment Operator\n",
    "\n",
    "In order to process data, we typically need to store it in computer memory. This is done via the use of variables. You might be familiar with variables given their use in mathematics. However, variables in mathematics and computing are different.\n",
    "\n",
    "> **Definition**\n",
    ">\n",
    "> In computing, a *variable* corresponds to an identifier that references a unit of data in computer memory.\n",
    "\n",
    "In other words, a **variable** represents an entity which holds a **value**.\n",
    "\n",
    "In order to define a variable, we must utilise the **assignment statement**. Variables must be **initialised** (i.e. assigned with a value) before use.\n",
    "\n",
    "To understand how assignment and variables work, let us refer to the following example:\n",
    "\n",
    ">```python\n",
    "># x is the variable, 100 is the data, ← is the assignment operator\n",
    "># and the whole line below is the assignment statement\n",
    ">x ← 100\n",
    ">```\n",
    "\n",
    "The above is a typical assignment statement. We are specifying a variable, i.e., an identifier `x`, which will reference some part of the computer’s memory, and in that segment of computer memory, store the integer value `100`.\n",
    "\n",
    "Essentially, the assignment statement does 3 things:\n",
    "\n",
    "1. Stores the variable identifier in an identifier table\n",
    "2. Allocates computer memory for the storage of the data type value specified; the memory allocated will correspond to some specific location in memory - i.e., a memory address\n",
    "3. Links the variable identifier to the computer memory location\n",
    "\n",
    "In this manner, whenever the variable is used, the computer knows that we are referring to the value that is stored in the associated location in computer memory.\n",
    "\n",
    "Assignment also allows programmers to:\n",
    "\n",
    "1. Assign new values to a variable\n",
    "2. Copy variable values\n",
    "3. Swap values between variables\n",
    "\n",
    "It should also be noted that when assigning a value, that value may be computed using expressions consisting of arithmetic, logical, comparison and/or string operations. For example:\n",
    "\n",
    ">```python\n",
    ">x ← 10 + 20\n",
    ">```\n",
    "\n",
    "Such expressions can, and or course, often do include the specification of other variables. For example:\n",
    "\n",
    ">```python\n",
    ">result ← a*x**2 + b*x + c\n",
    ">```\n",
    "\n",
    "In Python, the assignment operator is `=` , which should not be confused with the equal sign $=$ from mathematics. \n",
    "\n",
    "The way to write assignment statement in Python\n",
    "\n",
    "```python\n",
    "var = assigned_value \n",
    "```\n",
    "\n",
    "for assigning the value of the right-hand-side `assigned_value` to left-hand-side variable `var`.\n",
    "\n",
    "#### Hands On Activity\n",
    "\n",
    "Run each of the code cells below and observe the outputs produced."
   ]
  },
  {
   "cell_type": "code",
   "execution_count": null,
   "metadata": {},
   "outputs": [],
   "source": [
    "x = 2\n",
    "print(x)\n",
    "\n",
    "# The value x at this point is 2\n",
    "# So, x + 1 is 3\n",
    "# The assignment below evaluates the rhs first before assigning it to the variable x on lhs\n",
    "x = x + 1\n",
    "print(x)"
   ]
  },
  {
   "cell_type": "code",
   "execution_count": null,
   "metadata": {},
   "outputs": [],
   "source": [
    "teacher1 = \"Mr Tan\"\n",
    "teacher2 = \"Mr Kwek\"\n",
    "\n",
    "teacher1 = teacher2\n",
    "teacher2 = teacher1\n",
    "\n",
    "print(teacher1)\n",
    "print(teacher2)"
   ]
  },
  {
   "cell_type": "markdown",
   "metadata": {},
   "source": [
    "#### Hands On Activity\n",
    "Write a program that takes in 3 inputs and assign them to variables named `a`, `b`, `c`. "
   ]
  },
  {
   "cell_type": "code",
   "execution_count": null,
   "metadata": {},
   "outputs": [],
   "source": [
    "# YOUR_CODE_HERE"
   ]
  },
  {
   "cell_type": "markdown",
   "metadata": {},
   "source": [
    "To prevent conflict and to keep consistency between programs, programming languages normally has some naming conventions for the variables, please check [https://www.python.org/dev/peps/pep-0008/#naming-conventions](https://www.python.org/dev/peps/pep-0008/) for updated style guide for python. For example, never use the characters `l` (lowercase letter el), `O` (uppercase letter oh), or `I` (uppercase letter eye) as single character variable names. In some fonts, these characters are indistinguishable from the numerals one and zero. When tempted to use `l`, use `L` instead.\n",
    "\n",
    "Legal variable names of a variable in Python :\n",
    "- Cannot begin with a digit\n",
    "- Cannot include operator symbols\n",
    "- Cannot be reserved words (e.g., `or`, `and`, `not`, `in`, `is`, `def`, `return`, `pass`, `break`, `continue`)\n",
    "- Should not be built-in function names (e.g., `print`, `input`, `range`, `len`, `min`, `max`, `int`, `str`)\n",
    "\n",
    "\n",
    "### Arithmetic Operations\n",
    "\n",
    "An arithmetic operator is an operator that work on numeric data types. The typical operations that may be performed on numbers include:\n",
    "\n",
    "<center>\n",
    "\n",
    "No|     Operation    | Symbol |\n",
    ":-:|:----------------:|:------:|\n",
    "1|     Addition     |    `+`   |\n",
    "2|    Subtraction   |    `-`   |\n",
    "3|  Multiplication  |    `*`   |\n",
    "4|     Division     |    `/`   |\n",
    "5| Integer Division |   `//`   |\n",
    "6|      Modulo      |    `%`   |\n",
    "7|      Power      |   `**`   |\n",
    "\n",
    "</center>\n",
    "\n",
    "The first four operations are the same as their counter parts in mathematics. \n",
    "\n",
    "When used between 2 integers, `a` and `b`, the integer division `//` and modulo `%` is written as `a // b` and `a % b`. `a // b` gives the quotient when `a` is divided by `b` and `a % b` gives the remainder when `a` is divided by `b`.\n",
    "\n",
    "The notation for exponentiation in Python is double asterisk `**` as the caret `^` is reserved for another operation.\n",
    "\n",
    "#### Hands On Activity\n",
    "Write a program to try the arithmetic operations above with the following pairs `(15,10)`, `(3,4)`, `(124,20)`. For each pair:\n",
    "- assign the result of the operations to a variable\n",
    "- print the variable "
   ]
  },
  {
   "cell_type": "code",
   "execution_count": null,
   "metadata": {},
   "outputs": [],
   "source": [
    "# YOUR_CODE_HERE"
   ]
  },
  {
   "cell_type": "markdown",
   "metadata": {},
   "source": [
    "## Logical and Comparison Operations\n",
    "\n",
    "There are several Boolean or logical operations. Among the most common are the following:\n",
    "\n",
    "<center>\n",
    "\n",
    "| Operation   | Symbol |\n",
    "|:-------------:|:--------:|\n",
    "| Logical AND | `and`    |\n",
    "| Logical OR  | `or`     |\n",
    "| Logical NOT | `not`    |\n",
    "\n",
    "</center>\n",
    "\n",
    "Each logical operation is associated with a truth table, which defines all possible pairs of operand values, and the corresponding resultant value that is attained when the operator in question is applied to the given operands. The truth table for the above logical operations are as follows.\n",
    "\n",
    "<center>\n",
    "\n",
    "| `x`     | `y`     | `x and y` | `x or y` | `not x` |\n",
    "|-------|-------|---------|--------|-------|\n",
    "| `True`  | `True`  | `True`    | `True`   | `False` |\n",
    "| `True`  | `False` | `False`   | `True`   | `False` |\n",
    "| `False` | `True`  | `False`  | `True`   | `True`  |\n",
    "| `False` | `False` | `False`   | `False`  | `True`  |\n",
    "\n",
    "</center>\n",
    "\n",
    "Note that:\n",
    "> 1. The result is `True` if both `x` and `y` are `True`, or else, the result is `False`.\n",
    "> 2. The result is `True` if `x` is `True` or `y` is `True`, or else, the result is `False`.\n",
    "> 3. The result is the opposite of the Boolean value of `x`.\n",
    "\n",
    "Additionally, there are several comparison operations that do not require Boolean operands, but have a Boolean value result:\n",
    "\n",
    "<center>\n",
    "\n",
    "|     Operation    | Symbol |\n",
    "|:----------------:|:------:|\n",
    "|     Less Than     |    `<`   |\n",
    "|    Less Than or Equals   |    `<=`   |\n",
    "|  Equality  |    `==`   |\n",
    "|     Greater Than     |    `>`   |\n",
    "| Greater Than or Equals |   `>=`   |\n",
    "|     Not Equals    |    `!=`   |\n",
    "\n",
    "</center>\n",
    "\n",
    "As with the arithmetic and logical operations, the above comparison operations take 2 operands, evaluate the associated test, and then have Boolean result. For example, `10 < 5` will result in `False`, since 10 is actually greater than 5, not less; `“abc” == “cba”` will result in `False`, since the 2 strings are not equivalent.\n",
    "\n",
    "Strings can also be compared with the comparison operators `<, >, <=, >=` which will give a Boolean value based on dictionary/lexicographic ordering. E.g. `'a' < 'b'` will evaluate to `True`, while `'c' < 'a'` will evaluate to `False`. \n",
    "\n",
    "#### Hands On Activity\n",
    "\n",
    "It is important to know the type of the value that a variable refers to – e.g., this would allow us to use the correct operators. Python automatically infers the type from the value you assign to a variable. Write down the type of the values stored in each of the variables below. Pay special attention to punctuation: values are not always the type they seem!\n",
    "\n",
    "1. `a = False`\n",
    "2. `b = 3.7`\n",
    "3. `c = 'Alex'`\n",
    "4. `d = 7`\n",
    "5. `e = 'True'`\n",
    "6. `f = 12 ** 3`\n",
    "7. `g = '17'`\n",
    "8. `h = True`\n",
    "9. `i = '3.14159'`\n",
    "10. `j = 12 / 27`\n",
    "11. `k = 2.0 / 1`\n",
    "12. `l = (5 == \"5\")`\n",
    "\n",
    "To verify your answers, you can use the `type` function in interactive Python shell (as shown below). However, first try to do the exercise without the help of the shell.\n",
    "\n",
    ">```python\n",
    ">>>> x = 100\n",
    ">>>> type(x)\n",
    "><type 'int'>\n",
    ">>>>\n",
    ">```"
   ]
  },
  {
   "cell_type": "code",
   "execution_count": null,
   "metadata": {},
   "outputs": [],
   "source": [
    "# YOUR_CODE_HERE"
   ]
  },
  {
   "cell_type": "markdown",
   "metadata": {},
   "source": [
    "# Commonly Encountered Errors\n",
    "\n",
    "## Syntax Error\n",
    "\n",
    "## Type Error\n",
    "\n",
    "## Logical Error"
   ]
  },
  {
   "cell_type": "markdown",
   "metadata": {},
   "source": [
    "# Function\n",
    "\n",
    "In computing, a function corresponds to a sequence of steps that is given an identifier and returns a single value; a function call must be part of an expression (since it returns a value).\n",
    "\n",
    "This notion of function is similar to the mathematical function with some differences that we would mention later.\n",
    "\n",
    "## Declaring and Calling a Function\n",
    "\n",
    "In order to define a function in Python, we must first declare it. A function declaration consists of a function name followed by a routine body. The routine body is the statement block.\n",
    "\n",
    "The following is an example in pseudocode. \n",
    "\n",
    ">```text\n",
    ">1 FUNCTION square(n : INTEGER) : INTEGER\n",
    ">2    result ← n * n\n",
    ">3    RETURN result\n",
    ">4 ENDFUNCTION\n",
    ">```\n",
    "\n",
    "From the above example, we notice that the function declaration includes:\n",
    "\n",
    "- The identifier or name of the function (i.e., `square`)\n",
    "- The parameter(s) (i.e., input variable(s)) for the function (i.e., the single input variable `n : INTEGER`)\n",
    "\n",
    "Correspondingly, the function body contains:\n",
    "\n",
    "- The various statements that define what the function does (i.e., each line after the function header/interface)\n",
    "- A statement that gives the function a value to return (i.e., the `return result` statement on the last line)\n",
    "\n",
    "Essentially, when we define a function, we use an ordered list of variables, termed **parameters**, to be supplied into the function. E.g., `n` is a parameter in the example above. \n",
    "\n",
    "When the function is called with an actual input, the input is called an **argument**, i.e., the arguments supplied are assigned to the corresponding parameter of the routine. Do note the order of the parameters in the parameter list must be the same as the order in the list of arguments. Using our example above, in the expression `square(2)`, `2` is the argument. \n",
    "\n",
    "When an executed program gets to the statement that includes a function call as part of the expression, the function is executed. The value returned from this function call is then used in the expression. Thus, with the above line of code, the result of the `square(2)` function call is assigned to the variable `result`.\n",
    "\n",
    "In Python, we declare a function with the following syntax:\n",
    "\n",
    ">```python\n",
    ">def function_name(parameters):\n",
    ">\tstatement/statements\n",
    ">   return some_value\n",
    ">```\n",
    "\n",
    "* Keyword `def` marks the start of a function.\n",
    "* Every function has an user defined name as unique identifier. In the example above it's `function_name` \n",
    "* It takes in values, known as **parameters**, before running the code block.\n",
    "* It may return value as a result using `return` statement.\n",
    "    * If no `return` statement, the function will return the `None` data type at the end of the function. \n",
    "* All statements must be equally indented, which is usually 4 spaces. \n",
    "\n",
    "**Note:** Do not indent your program with mix of spaces and tabs. \n",
    "\n",
    "#### Example\n",
    "The program to implement the function defined by the following pseudocode  \n",
    "\n",
    ">```coffeescript\n",
    ">1 FUNCTION square(n : INTEGER) : INTEGER\n",
    ">2    result ← n * n\n",
    ">3    RETURN result\n",
    ">4 ENDFUNCTION\n",
    ">```\n",
    "\n",
    "in Python looks like:"
   ]
  },
  {
   "cell_type": "code",
   "execution_count": null,
   "metadata": {},
   "outputs": [],
   "source": [
    "def square(n):\n",
    "    result = n * n\n",
    "    return result\n",
    "\n",
    "print(square(4))\n",
    "print(square(11))"
   ]
  },
  {
   "cell_type": "markdown",
   "metadata": {},
   "source": [
    "#### Exercise\n",
    "Write a **function** named `my_circle_area` that takes in a float $r$ as a parameter and returns a float that represents the area of a circle with radius $r$."
   ]
  },
  {
   "cell_type": "code",
   "execution_count": null,
   "metadata": {},
   "outputs": [],
   "source": [
    "# YOUR_CODE_HERE"
   ]
  },
  {
   "cell_type": "markdown",
   "metadata": {},
   "source": [
    "#### Exercise \n",
    "Write a **function** named `my_discriminant` that takes in three float values $a$, $b$ and $c$ as parameters that represents that coefficients of the quadratic expression in the equation $ax^2 + bx + c = 0$ and returns a float that represents the discriminant of the quadratic equation"
   ]
  },
  {
   "cell_type": "code",
   "execution_count": null,
   "metadata": {},
   "outputs": [],
   "source": [
    "# YOUR_CODE_HERE"
   ]
  },
  {
   "cell_type": "markdown",
   "metadata": {},
   "source": [
    "#### Exercise\n",
    "Write a **function** named `my_gradient` that takes in four float values $x_1$, $y_1$, $x_2$ and $y_2$ as parameters and returns a float that represents the gradient of the line passing through the points $(x_1,y_1)$ and $(x_2,y_2)$ where $y_1 \\neq y_2$ in a Cartesian plane."
   ]
  },
  {
   "cell_type": "code",
   "execution_count": null,
   "metadata": {},
   "outputs": [],
   "source": [
    "# YOUR_CODE_HERE"
   ]
  },
  {
   "cell_type": "markdown",
   "metadata": {},
   "source": [
    "#### Exercise\n",
    "Write a function named `is_odd` that takes in an integer value $x$ as a parameter and returns a Boolean value `True` if the $x$ is an odd integer and `False` otherwise.\n",
    "\n",
    "> Hint: Recall the use of the `%` and `==` operator."
   ]
  },
  {
   "cell_type": "code",
   "execution_count": null,
   "metadata": {},
   "outputs": [],
   "source": [
    "# YOUR_CODE_HERE"
   ]
  },
  {
   "cell_type": "markdown",
   "metadata": {},
   "source": [
    "#### Exercise\n",
    "Write a **function** named `my_reciprocal` that takes in a float value $x$ as parameter and returns a float that represents the reciprocal of $x$."
   ]
  },
  {
   "cell_type": "code",
   "execution_count": null,
   "metadata": {},
   "outputs": [],
   "source": [
    "# YOUR_CODE_HERE"
   ]
  },
  {
   "cell_type": "markdown",
   "metadata": {},
   "source": [
    "As we can see from the exercises above, defining a function in Python can be pretty much analogous to how we do it in mathematics. \n",
    "\n",
    "However, there is a slight difference in it which was hinted in the last example. Can you spot it?"
   ]
  },
  {
   "cell_type": "markdown",
   "metadata": {},
   "source": [
    "## f-string for String Formatting\n",
    "We will digress a little bit from our discussion of function to the formatting of the string data as sometimes we would like to output or return our computed values in some specific manner for aesthetics or clarity purposes.\n",
    "\n",
    "Python f-strings provide a concise and readable way to embed expressions inside string literals. By prefixing a string with the letter `f` stands for 'formatting', you can include placeholders enclosed in curly braces `{}` directly within the string. \n",
    "\n",
    "These placeholders evaluate the expressions they contain and the evaluated expression will replace the placeholders in the string. They can include variables, arithmetic operations, function calls, or even more complex expressions, ensuring flexibility and readability in the code.\n",
    "\n",
    "#### Example\n",
    "Consider the following code:\n",
    "\n",
    "```python\n",
    "name = \"Alice\"\n",
    "age  = 25\n",
    "\n",
    "#\n",
    "greeting = f\"Hello, {name}! You are {age} years old.\" \n",
    "print(greeting)\n",
    "```\n",
    "\n",
    "The output would be:\n",
    "\n",
    "```text\n",
    "Hello, Alice! You are 25 years old.\n",
    "```"
   ]
  },
  {
   "cell_type": "code",
   "execution_count": null,
   "metadata": {},
   "outputs": [],
   "source": [
    "# You can try out some f-strings here\n",
    "# YOUR_CODE_HERE"
   ]
  },
  {
   "cell_type": "markdown",
   "metadata": {},
   "source": [
    "#### Example\n",
    "Write a **function** named `my_circle_area` that takes in a float $r$ as a parameter and output the following string \n",
    "\n",
    "```python\n",
    "'The area of the circle with radius {r} is {area} unit square',\n",
    "```\n",
    "\n",
    "where `{r}` and `{area}` should correspond to the float $r$ and the area of the circle with radius $r$ respectively."
   ]
  },
  {
   "cell_type": "code",
   "execution_count": null,
   "metadata": {},
   "outputs": [],
   "source": [
    "# YOUR_CODE_HERE"
   ]
  },
  {
   "cell_type": "markdown",
   "metadata": {},
   "source": [
    "# List Data Type\n",
    "A Python list is a versatile and powerful data type used to store multiple items in a single variable. Think of a list as a collection that holds an ordered sequence of elements, which can include numbers, strings, or even other lists. The concept of list is very important is problem-solving as it helps us to keep track of the items of concern.\n",
    "\n",
    "## Creating a List\n",
    "You define a list using square brackets (`[]`), with each element separated by a comma. For example, \n",
    "\n",
    "```python\n",
    "my_list = [1, 'hello', 3.5, True] \n",
    "```\n",
    "\n",
    "creates a list containing an integer, a string, a float, and a boolean. \n",
    "\n",
    "The concept of list is similar to the concept of sets in mathematics. However, list allow the repetition of items and the order of the elements matter. E.g. \n",
    "- the list `[1,1,2]` is not the same as the list `[1,2]`\n",
    "- the list `[2,1]` is not the same as the list `[1,2]`\n",
    "\n",
    "Besides the logical operators mentioned above, there's an operator `in` that can be used to check if an element $x$ belongs to a list $L$, i.e., $x \\in L$. The expression will be evaluated to the Boolean `True` or `False`.\n",
    "\n",
    "#### Example\n",
    "Write a code to check if the values `1` and `'True'` is contained the list `my_list` defined above."
   ]
  },
  {
   "cell_type": "code",
   "execution_count": 2,
   "metadata": {},
   "outputs": [
    {
     "name": "stdout",
     "output_type": "stream",
     "text": [
      "True\n",
      "False\n"
     ]
    }
   ],
   "source": [
    "my_list = [1, 'hello', 3.5, True] \n",
    "print(1 in my_list)\n",
    "print('True' in my_list)"
   ]
  },
  {
   "cell_type": "markdown",
   "metadata": {},
   "source": [
    "In our context, there are some lists that are more applicable to us in solving mathematical problems. Below we will see how to create those lists.\n",
    "\n",
    "### Lists that contain a range of integers/floats\n",
    "In mathematics, we often see sets of the following form \n",
    "$$\\left\\{ x \\mid x\\in\\mathbb{Z} \\wedge m\\leq x < n\\right\\} $$\n",
    "which is a set of integers between $m$ and $n$, **with $m$ being included but not $n$**.\n",
    "\n",
    "To create such collection/list in Python, we can use the following syntax:\n",
    "\n",
    "```python\n",
    "[x for x in range(m, n)]\n",
    "```\n",
    "\n",
    "Note that the way to create the collection is analogous to how we formally write a set in mathematics. The correspondences are :\n",
    "- instead of curly braces `{}`, we use square brackets `[]` to indicate a collection\n",
    "- instead of writing $x\\in \\mathbb{Z} \\wedge m\\leq x < n$, we write `x in range(m, n)`. This way of defining is inbuilt in Python and is just is.\n",
    "\n",
    "#### Example\n",
    "Write a program to create a list of the first 5 non-zero integers and print it."
   ]
  },
  {
   "cell_type": "code",
   "execution_count": null,
   "metadata": {},
   "outputs": [
    {
     "name": "stdout",
     "output_type": "stream",
     "text": [
      "[1, 2, 3, 4, 5]\n"
     ]
    }
   ],
   "source": [
    "l = [x for x in range(1,6)]\n",
    "\n",
    "print(l)"
   ]
  },
  {
   "cell_type": "markdown",
   "metadata": {},
   "source": [
    "#### Exercise\n",
    "The set of the all odd positive integers can be written as in mathematical notation as\n",
    "\n",
    "$$\\left\\{ 2k+1 \\mid k\\in\\mathbb{Z}\\right\\}.$$\n",
    "\n",
    "Write a program to create a list of the odd positive integers below 25 and print it."
   ]
  },
  {
   "cell_type": "code",
   "execution_count": null,
   "metadata": {},
   "outputs": [],
   "source": [
    "# YOUR_CODE_HERE"
   ]
  },
  {
   "cell_type": "markdown",
   "metadata": {},
   "source": [
    "### Lists that contain values that matches some predicate $P$\n",
    "Generally, in mathematics, we can naively create a set of values $x$ where the elements fulfills some criteria $P(x)$. Such set is written as\n",
    "\n",
    "$$\\left\\{ x \\mid P(x) \\text{ is true}\\right\\}.$$\n",
    "\n",
    "Similar to the previous section, we can create such collection/list in Python, we can use the following syntax:\n",
    "\n",
    "```python\n",
    "[x for x in L if P(x)]\n",
    "```\n",
    "\n",
    "where `L` is a Python list with already containing some elements and `P(x)` is a function taking `x` as a parameter with a Boolean return.\n",
    "\n",
    "#### Example\n",
    "The set of the all even positive integers can be written as in mathematical notation as\n",
    "\n",
    "$$\\left\\{ 2k \\mid k\\in\\mathbb{Z}\\right\\}.$$\n",
    "\n",
    "Write a program to create a list of the even positive integers below 30 and print it."
   ]
  },
  {
   "cell_type": "code",
   "execution_count": null,
   "metadata": {},
   "outputs": [
    {
     "name": "stdout",
     "output_type": "stream",
     "text": [
      "[2, 4, 6, 8, 10, 12, 14, 16, 18, 20, 22, 24, 26, 28]\n"
     ]
    }
   ],
   "source": [
    "L = [x for x in range(1,30)]\n",
    "\n",
    "def P(x):\n",
    "    return (x % 2 == 0) and (x < 30)\n",
    "\n",
    "even_list = [x for x in L if P(x)]\n",
    "\n",
    "print(even_list)"
   ]
  },
  {
   "cell_type": "markdown",
   "metadata": {},
   "source": [
    "#### Exercise\n",
    "The **intersection** of two sets $A$ and $B$, $A\\cap B$ is defined as \n",
    "\n",
    "$$A\\cap B = \\left\\{ x\\mid x\\in A\\wedge x\\in B\\right\\}.$$\n",
    "\n",
    "Write a function `intersection()` that takes in two lists $A$ and $B$, which represents sets, and return a list that represents the intersection of the two sets.\n",
    "\n",
    "Test your function with the following parameters:\n",
    "- `A = [1, 3, 5, 7, 9]`, `B = [5, 6, 7, 8, 9, 10]`\n",
    "- `A = [x for x in range(0, 20)]`, `B = [3*k for k in range(4,10)]`"
   ]
  },
  {
   "cell_type": "code",
   "execution_count": null,
   "metadata": {},
   "outputs": [],
   "source": [
    "# YOUR_CODE_HERE"
   ]
  },
  {
   "cell_type": "markdown",
   "metadata": {},
   "source": [
    "#### Exercise\n",
    "An integer `x` is a **factor** of another integer `a` if `x` divides `a`.\n",
    "\n",
    "Write a function `find_factors()` that takes in an integer `a` as a parameter and return a list of all the factors of `a`."
   ]
  },
  {
   "cell_type": "code",
   "execution_count": null,
   "metadata": {},
   "outputs": [],
   "source": [
    "# YOUR_CODE_HERE"
   ]
  },
  {
   "cell_type": "markdown",
   "metadata": {},
   "source": [
    "#### Exercise\n",
    "Write a function `common_factors()` that takes in two integers `a` and `b` as parameters and return a list of all the common factors of `a` and `b`."
   ]
  },
  {
   "cell_type": "code",
   "execution_count": null,
   "metadata": {},
   "outputs": [],
   "source": [
    "# YOUR_CODE_HERE"
   ]
  },
  {
   "cell_type": "markdown",
   "metadata": {},
   "source": [
    "## Nested Lists "
   ]
  },
  {
   "cell_type": "markdown",
   "metadata": {},
   "source": [
    "## Manipulating a List\n",
    "Lists are mutable, meaning you can add, remove, or modify elements after the list is created. The order of elements in a list is preserved, and you can access them using their index, starting from zero. For instance, \n",
    "- `my_list[0]` would return `1`,\n",
    "- `my_list[1]` would return `'hello'`.\n"
   ]
  },
  {
   "cell_type": "markdown",
   "metadata": {},
   "source": [
    "- `len()`\n",
    "- `sum()`\n",
    "- help() function\n",
    "- function isprime\n",
    "- function nextprime\n",
    "- determine if a quadratic has integer factors\n",
    "- it it possible that a monic quadratic polynomial  has 2 diff factorisation\n",
    "- append()\n",
    "- change elements of list via indexing\n",
    "- typecasting, useful ones - `int()`, `float()`, `list()`\n",
    "- `type()`\n",
    "- function sieve_of_erasthotenes\n",
    "- probably need find() or list slicing\n",
    "- function arithmetic mean\n",
    "- function geometric mean"
   ]
  },
  {
   "cell_type": "markdown",
   "metadata": {},
   "source": [
    "# inbuild python functions\n",
    "- `len()`\n",
    "- `sum()`\n",
    "- help() function\n",
    "- typecasting, useful ones - `int()`, `float()`, `list()`\n",
    "- `type()`\n",
    "- function nextprime\n",
    "\n",
    "#### Exercise\n",
    "A positive integer $p$ is called a **prime** number if the only divisors of $p$ is $1$ and $p$ itself.\n",
    "\n",
    "Write a function `is_prime()` that takes in a positive integer $x$ and returns Boolean `True` if $x$ is a prime number and `False` otherwise.\n",
    "# mathematical functions in python\n",
    "# function composition\n"
   ]
  },
  {
   "cell_type": "code",
   "execution_count": null,
   "metadata": {},
   "outputs": [],
   "source": [
    "# YOUR_CODE_HERE"
   ]
  },
  {
   "cell_type": "markdown",
   "metadata": {},
   "source": [
    "#### Exercise\n",
    "Write a function `find_prime_factors()` that takes in a positive integer $x$ and return a list of all the prime factors of $x$."
   ]
  },
  {
   "cell_type": "code",
   "execution_count": null,
   "metadata": {},
   "outputs": [],
   "source": [
    "# YOUR_CODE_HERE"
   ]
  },
  {
   "cell_type": "markdown",
   "metadata": {},
   "source": [
    "# Programming Construct: Conditional"
   ]
  },
  {
   "cell_type": "code",
   "execution_count": null,
   "metadata": {},
   "outputs": [],
   "source": [
    "# circle area\n",
    "def main():\n",
    "    pi = 3.14\n",
    "    print('Please enter the value of the radius')\n",
    "    radius = input('')\n",
    "    radius = float(radius)\n",
    "    print(pi * (radius ** 2))\n",
    "\n",
    "main()"
   ]
  },
  {
   "cell_type": "code",
   "execution_count": null,
   "metadata": {},
   "outputs": [],
   "source": [
    "# doubler count\n",
    "def main():\n",
    "    amount = 0\n",
    "    n = 0 \n",
    "    amount = 200\n",
    "    print('Target amount is $200')\n",
    "    n = 0\n",
    "    while amount != 1:\n",
    "        n = n + 1\n",
    "        if amount % 2 == 0:\n",
    "            amount = amount / 2\n",
    "        else:\n",
    "            amount = amount - 1\n",
    "    print(f'It will take a minimum of {n} steps to reach $200')"
   ]
  },
  {
   "cell_type": "code",
   "execution_count": null,
   "metadata": {},
   "outputs": [],
   "source": [
    "#odd even checker\n",
    "def main():\n",
    "    testnumber = 0\n",
    "    print('Please enter a natural number')\n",
    "    testnumber = input()\n",
    "    if testnumber % 2 == 0:\n",
    "        print(f'{testnumber} is even!')\n",
    "    else:\n",
    "        print(f'{testnumber} is odd!')"
   ]
  },
  {
   "cell_type": "code",
   "execution_count": null,
   "metadata": {},
   "outputs": [],
   "source": [
    "# nature of roots\n",
    "def main():\n",
    "    a = type(float())\n",
    "    b = type(float())\n",
    "    c = type(float())\n",
    "    print('This program determines the nature of roots for a quadratic equation of the form ax^2 + bx + c = 0')\n",
    "    print('Enter the value of a')\n",
    "    a = input()\n",
    "    print('Enter the value of b')\n",
    "    b = input()\n",
    "    print('Enter the value of c')\n",
    "    c = input()\n",
    "    d = type(float())\n",
    "    d = b*b - 4*a*c\n",
    "    print(f'The discriminant d = b^2 - 4ac is {d}')\n",
    "    if d < 0:\n",
    "        print('The quadratic equation has no real roots.')\n",
    "    elif d == 0:\n",
    "        print('The quadratic equation has two distinct real roots.')\n",
    "    else:\n",
    "        print('The quadratic equation has two equal real roots.')"
   ]
  },
  {
   "cell_type": "code",
   "execution_count": null,
   "metadata": {},
   "outputs": [],
   "source": [
    "# print to 100\n",
    "def main():\n",
    "    for i in range(1,101):\n",
    "        print(i)"
   ]
  },
  {
   "cell_type": "code",
   "execution_count": null,
   "metadata": {},
   "outputs": [],
   "source": [
    "# triangular number\n",
    "def main():\n",
    "    return [sum([i for i in range(1,j + 1)]) for j in range(1,10)]\n",
    "\n",
    "main()"
   ]
  },
  {
   "cell_type": "code",
   "execution_count": null,
   "metadata": {},
   "outputs": [],
   "source": [
    "# hcf\n",
    "def hcf(m,n):\n",
    "    hcfmn = type(int)\n",
    "    counthcf = type(int)\n",
    "    minofmn = type(int)\n",
    "    if m > n:\n",
    "        minofmn = n\n",
    "    else:\n",
    "        minofmn = m\n",
    "    for counthcf in range(1, minofmn + 1):\n",
    "        if (m % counthcf == 0 ) and (n % counthcf == 0):\n",
    "            hcfmn = counthcf\n",
    "    print(f'The highest common factor of {m} and {n} is {hcfmn}')\n",
    "    return hcfmn"
   ]
  },
  {
   "cell_type": "code",
   "execution_count": null,
   "metadata": {},
   "outputs": [],
   "source": [
    "# prime factorisation MA100 Topic 1 primes\n",
    "def main():\n",
    "    a = 60\n",
    "    p = 2\n",
    "    while p <= a:\n",
    "        if a % p == 0:\n",
    "            print(p)\n",
    "            a = a//p\n",
    "        else:\n",
    "            p = next_prime(p)"
   ]
  }
 ],
 "metadata": {
  "kernelspec": {
   "display_name": "Python 3",
   "language": "python",
   "name": "python3"
  },
  "language_info": {
   "codemirror_mode": {
    "name": "ipython",
    "version": 3
   },
   "file_extension": ".py",
   "mimetype": "text/x-python",
   "name": "python",
   "nbconvert_exporter": "python",
   "pygments_lexer": "ipython3",
   "version": "3.12.1"
  }
 },
 "nbformat": 4,
 "nbformat_minor": 2
}
