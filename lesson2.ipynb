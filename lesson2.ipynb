{
 "cells": [
  {
   "cell_type": "markdown",
   "metadata": {},
   "source": [
    "# Open in Google Colab\n",
    "\n",
    "[![Open In Colab](https://colab.research.google.com/assets/colab-badge.svg)](https://colab.research.google.com/github/beertino/pynjcmat/blob/main/lesson2.ipynb)"
   ]
  },
  {
   "cell_type": "markdown",
   "metadata": {},
   "source": [
    "# Function\n",
    "\n",
    "In computing, a function corresponds to a sequence of steps that is given an identifier and returns a single value; a function call must be part of an expression (since it returns a value).\n",
    "\n",
    "This notion of function is similar to the mathematical function with some differences that we would mention later.\n",
    "\n",
    "## Declaring and Calling a Function\n",
    "\n",
    "In order to define a function in Python, we must first declare it. A function declaration consists of a function name followed by a routine body. The routine body is the statement block.\n",
    "\n",
    "The following is an example in pseudocode. \n",
    "\n",
    ">```text\n",
    ">1 FUNCTION square(n : INTEGER) : INTEGER\n",
    ">2    result ← n * n\n",
    ">3    RETURN result\n",
    ">4 ENDFUNCTION\n",
    ">```\n",
    "\n",
    "From the above example, we notice that the function declaration includes:\n",
    "\n",
    "- The identifier or name of the function (i.e., `square`)\n",
    "- The parameter(s) (i.e., input variable(s)) for the function (i.e., the single input variable `n : INTEGER`)\n",
    "\n",
    "Correspondingly, the function body contains:\n",
    "\n",
    "- The various statements that define what the function does (i.e., each line after the function header/interface)\n",
    "- A statement that gives the function a value to return (i.e., the `return result` statement on the last line)\n",
    "\n",
    "Essentially, when we define a function, we use an ordered list of variables, termed **parameters**, to be supplied into the function. E.g., `n` is a parameter in the example above. \n",
    "\n",
    "When the function is called with an actual input, the input is called an **argument**, i.e., the arguments supplied are assigned to the corresponding parameter of the routine. Do note the order of the parameters in the parameter list must be the same as the order in the list of arguments. Using our example above, in the expression `square(2)`, `2` is the argument. \n",
    "\n",
    "When an executed program gets to the statement that includes a function call as part of the expression, the function is executed. The value returned from this function call is then used in the expression. Thus, with the above line of code, the result of the `square(2)` function call is assigned to the variable `result`.\n",
    "\n",
    "In Python, we declare a function with the following syntax:\n",
    "\n",
    ">```python\n",
    ">def function_name(parameters):\n",
    ">\tstatement/statements\n",
    ">   return some_value\n",
    ">```\n",
    "\n",
    "* Keyword `def` marks the start of a function.\n",
    "* Every function has an user defined name as unique identifier. In the example above it's `function_name` \n",
    "* It takes in values, known as **parameters**, before running the code block.\n",
    "* It may return value as a result using `return` statement.\n",
    "    * If no `return` statement, the function will return the `None` data type at the end of the function. \n",
    "* All statements must be equally indented, which is usually 4 spaces. \n",
    "\n",
    "**Note:** Do not indent your program with mix of spaces and tabs. \n",
    "\n",
    "#### Example\n",
    "The program to implement the function defined by the following pseudocode  \n",
    "\n",
    ">```coffeescript\n",
    ">1 FUNCTION square(n : INTEGER) : INTEGER\n",
    ">2    result ← n * n\n",
    ">3    RETURN result\n",
    ">4 ENDFUNCTION\n",
    ">```\n",
    "\n",
    "in Python looks like:"
   ]
  },
  {
   "cell_type": "code",
   "execution_count": null,
   "metadata": {},
   "outputs": [],
   "source": [
    "def square(n):\n",
    "    result = n * n\n",
    "    return result\n",
    "\n",
    "print(square(4))\n",
    "print(square(11))"
   ]
  },
  {
   "cell_type": "markdown",
   "metadata": {},
   "source": [
    "#### Exercise\n",
    "Write a **function** named `my_circle_area` that takes in a float $r$ as a parameter and returns a float that represents the area of a circle with radius $r$."
   ]
  },
  {
   "cell_type": "code",
   "execution_count": null,
   "metadata": {},
   "outputs": [],
   "source": [
    "# YOUR_CODE_HERE"
   ]
  },
  {
   "cell_type": "markdown",
   "metadata": {},
   "source": [
    "#### Exercise \n",
    "Write a **function** named `my_discriminant` that takes in three float values $a$, $b$ and $c$ as parameters that represents that coefficients of the quadratic expression in the equation $ax^2 + bx + c = 0$ and returns a float that represents the discriminant of the quadratic equation"
   ]
  },
  {
   "cell_type": "code",
   "execution_count": null,
   "metadata": {},
   "outputs": [],
   "source": [
    "# YOUR_CODE_HERE"
   ]
  },
  {
   "cell_type": "markdown",
   "metadata": {},
   "source": [
    "#### Exercise\n",
    "Write a **function** named `my_gradient` that takes in four float values $x_1$, $y_1$, $x_2$ and $y_2$ as parameters and returns a float that represents the gradient of the line passing through the points $(x_1,y_1)$ and $(x_2,y_2)$ where $x_1 \\neq x_2$ in a Cartesian plane."
   ]
  },
  {
   "cell_type": "code",
   "execution_count": null,
   "metadata": {},
   "outputs": [],
   "source": [
    "# YOUR_CODE_HERE"
   ]
  },
  {
   "cell_type": "markdown",
   "metadata": {},
   "source": [
    "#### Exercise\n",
    "Write a function named `is_odd` that takes in an integer value $x$ as a parameter and returns a Boolean value `True` if the $x$ is an odd integer and `False` otherwise.\n",
    "\n",
    "> Hint: Recall the use of the `%` and `==` operator."
   ]
  },
  {
   "cell_type": "code",
   "execution_count": null,
   "metadata": {},
   "outputs": [],
   "source": [
    "# YOUR_CODE_HERE"
   ]
  },
  {
   "cell_type": "markdown",
   "metadata": {},
   "source": [
    "#### Exercise\n",
    "Write a **function** named `my_reciprocal` that takes in a float value $x$ as parameter and returns a float that represents the reciprocal of $x$."
   ]
  },
  {
   "cell_type": "code",
   "execution_count": null,
   "metadata": {},
   "outputs": [],
   "source": [
    "# YOUR_CODE_HERE"
   ]
  },
  {
   "cell_type": "markdown",
   "metadata": {},
   "source": [
    "As we can see from the exercises above, defining a function in Python can be pretty much analogous to how we do it in mathematics. \n",
    "\n",
    "However, there is a slight difference in it which was hinted in the last example. Can you spot it?"
   ]
  },
  {
   "cell_type": "markdown",
   "metadata": {},
   "source": [
    "## f-string for String Formatting\n",
    "We will digress a little bit from our discussion of function to the formatting of the string data as sometimes we would like to output or return our computed values in some specific manner for aesthetics or clarity purposes.\n",
    "\n",
    "Python f-strings provide a concise and readable way to embed expressions inside string literals. By prefixing a string with the letter `f` stands for 'formatting', you can include placeholders enclosed in curly braces `{}` directly within the string. \n",
    "\n",
    "These placeholders evaluate the expressions they contain and the evaluated expression will replace the placeholders in the string. They can include variables, arithmetic operations, function calls, or even more complex expressions, ensuring flexibility and readability in the code.\n",
    "\n",
    "#### Example\n",
    "Consider the following code:\n",
    "\n",
    "```python\n",
    "name = \"Alice\"\n",
    "age  = 25\n",
    "\n",
    "#\n",
    "greeting = f\"Hello, {name}! You are {age} years old.\" \n",
    "print(greeting)\n",
    "```\n",
    "\n",
    "The output would be:\n",
    "\n",
    "```text\n",
    "Hello, Alice! You are 25 years old.\n",
    "```"
   ]
  },
  {
   "cell_type": "code",
   "execution_count": null,
   "metadata": {},
   "outputs": [],
   "source": [
    "# You can try out some f-strings here\n",
    "# YOUR_CODE_HERE"
   ]
  },
  {
   "cell_type": "markdown",
   "metadata": {},
   "source": [
    "#### Example\n",
    "Write a **function** named `my_circle_area` that takes in a float $r$ as a parameter and output the following string \n",
    "\n",
    "```python\n",
    "'The area of the circle with radius {r} is {area} unit square',\n",
    "```\n",
    "\n",
    "where `{r}` and `{area}` should correspond to the float $r$ and the area of the circle with radius $r$ respectively."
   ]
  },
  {
   "cell_type": "code",
   "execution_count": null,
   "metadata": {},
   "outputs": [],
   "source": [
    "# YOUR_CODE_HERE"
   ]
  },
  {
   "cell_type": "markdown",
   "metadata": {},
   "source": [
    "# List Data Type\n",
    "A Python list is a versatile and powerful data type used to store multiple items in a single variable. Think of a list as a collection that holds an ordered sequence of elements, which can include numbers, strings, or even other lists. The concept of list is very important is problem-solving as it helps us to keep track of the items of concern.\n",
    "\n",
    "## Creating a List\n",
    "You define a list using square brackets (`[]`), with each element separated by a comma. For example, \n",
    "\n",
    "```python\n",
    "my_list = [1, 'hello', 3.5, True] \n",
    "```\n",
    "\n",
    "creates a list containing an integer, a string, a float, and a boolean. \n",
    "\n",
    "The concept of list is similar to the concept of sets in mathematics. However, list allow the repetition of items and the order of the elements matter. E.g. \n",
    "- the list `[1,1,2]` is not the same as the list `[1,2]`\n",
    "- the list `[2,1]` is not the same as the list `[1,2]`\n",
    "\n",
    "Due to the ordered property of list, we can use list represent a point in the Cartesian with its $x$ and $y$ coordinates. \n",
    "\n",
    "#### Example\n",
    "Point $P$ with coordinates $(1,5)$ can be represented as `[1,5]`.\n",
    "\n",
    "Besides the logical operators mentioned above, there's an operator `in` that can be used to check if an element $x$ belongs to a list $L$, i.e., $x \\in L$. The expression will be evaluated to the Boolean `True` or `False`.\n",
    "\n",
    "#### Example\n",
    "Write a code to check if the values `1` and `'True'` is contained the list `my_list` defined above."
   ]
  },
  {
   "cell_type": "code",
   "execution_count": null,
   "metadata": {},
   "outputs": [
    {
     "name": "stdout",
     "output_type": "stream",
     "text": [
      "True\n",
      "False\n"
     ]
    }
   ],
   "source": [
    "my_list = [1, 'hello', 3.5, True] \n",
    "print(1 in my_list)\n",
    "print('True' in my_list)"
   ]
  },
  {
   "cell_type": "markdown",
   "metadata": {},
   "source": [
    "In our context, there are some lists that are more applicable to us in solving mathematical problems. Below we will see how to create those lists.\n",
    "\n",
    "### Lists that contain a range of integers/floats\n",
    "In mathematics, we often see sets of the following form \n",
    "$$\\left\\{ x \\mid x\\in\\mathbb{Z} \\wedge m\\leq x < n\\right\\} $$\n",
    "which is a set of integers between $m$ and $n$, **with $m$ being included but not $n$**.\n",
    "\n",
    "To create such collection/list in Python, we can use the following syntax:\n",
    "\n",
    "```python\n",
    "[x for x in range(m, n)]\n",
    "```\n",
    "\n",
    "Note that the way to create the collection is analogous to how we formally write a set in mathematics. The correspondences are :\n",
    "- instead of curly braces `{}`, we use square brackets `[]` to indicate a collection\n",
    "- instead of writing $x\\in \\mathbb{Z} \\wedge m\\leq x < n$, we write `x in range(m, n)`. This way of defining is inbuilt in Python and is just is.\n",
    "\n",
    "#### Example\n",
    "Write a program to create a list of the first 5 non-zero integers and print it."
   ]
  },
  {
   "cell_type": "code",
   "execution_count": null,
   "metadata": {},
   "outputs": [
    {
     "name": "stdout",
     "output_type": "stream",
     "text": [
      "[1, 2, 3, 4, 5]\n"
     ]
    }
   ],
   "source": [
    "l = [x for x in range(1,6)]\n",
    "\n",
    "print(l)"
   ]
  },
  {
   "cell_type": "markdown",
   "metadata": {},
   "source": [
    "#### Exercise\n",
    "The set of the all odd positive integers can be written as in mathematical notation as\n",
    "\n",
    "$$\\left\\{ 2k+1 \\mid k\\in\\mathbb{Z}\\right\\}.$$\n",
    "\n",
    "Write a program to create a list of the odd positive integers below 25 and print it."
   ]
  },
  {
   "cell_type": "code",
   "execution_count": null,
   "metadata": {},
   "outputs": [],
   "source": [
    "# YOUR_CODE_HERE"
   ]
  },
  {
   "cell_type": "markdown",
   "metadata": {},
   "source": [
    "### Lists that contain values that matches some predicate $P$\n",
    "Generally, in mathematics, we can naively create a set of values $x$ where the elements fulfills some criteria $P(x)$. Such set is written as\n",
    "\n",
    "$$\\left\\{ x \\mid \\forall x\\in L. P(x) \\text{ is true}\\right\\}.$$\n",
    "\n",
    "Similar to the previous section, we can create such collection/list in Python, we can use the following syntax:\n",
    "\n",
    "```python\n",
    "[x for x in L if P(x)]\n",
    "```\n",
    "\n",
    "where `L` is a Python list with already containing some elements and `P(x)` is a function taking `x` as a parameter with a Boolean return.\n",
    "\n",
    "#### Example\n",
    "The set of the all even positive integers can be written as in mathematical notation as\n",
    "\n",
    "$$\\left\\{ 2k \\mid k\\in\\mathbb{Z}\\right\\}.$$\n",
    "\n",
    "Write a program to create a list of the even positive integers below 30 and print it."
   ]
  },
  {
   "cell_type": "code",
   "execution_count": null,
   "metadata": {},
   "outputs": [
    {
     "name": "stdout",
     "output_type": "stream",
     "text": [
      "[2, 4, 6, 8, 10, 12, 14, 16, 18, 20, 22, 24, 26, 28]\n"
     ]
    }
   ],
   "source": [
    "L = [x for x in range(1,30)]\n",
    "\n",
    "def P(x):\n",
    "    return (x % 2 == 0) and (x < 30)\n",
    "\n",
    "even_list = [x for x in L if P(x)]\n",
    "\n",
    "print(even_list)"
   ]
  },
  {
   "cell_type": "markdown",
   "metadata": {},
   "source": [
    "#### Exercise\n",
    "The **intersection** of two sets $A$ and $B$, $A\\cap B$ is defined as \n",
    "\n",
    "$$A\\cap B = \\left\\{ x\\mid x\\in A\\wedge x\\in B\\right\\}.$$\n",
    "\n",
    "Write a function `intersection()` that takes in two lists $A$ and $B$, which represents sets, and return a list that represents the intersection of the two sets.\n",
    "\n",
    "Test your function with the following parameters:\n",
    "- `A = [1, 3, 5, 7, 9]`, `B = [5, 6, 7, 8, 9, 10]`\n",
    "- `A = [x for x in range(0, 20)]`, `B = [3*k for k in range(4,10)]`"
   ]
  },
  {
   "cell_type": "code",
   "execution_count": null,
   "metadata": {},
   "outputs": [],
   "source": [
    "# YOUR_CODE_HERE"
   ]
  },
  {
   "cell_type": "markdown",
   "metadata": {},
   "source": [
    "#### Exercise\n",
    "An integer `x` is a **factor** of another integer `a` if `x` divides `a`.\n",
    "\n",
    "Write a function `find_factors()` that takes in an integer `a` as a parameter and return a list of all the factors of `a`."
   ]
  },
  {
   "cell_type": "code",
   "execution_count": null,
   "metadata": {},
   "outputs": [],
   "source": [
    "# YOUR_CODE_HERE"
   ]
  },
  {
   "cell_type": "markdown",
   "metadata": {},
   "source": [
    "#### Exercise\n",
    "Write a function `common_factors()` that takes in two integers `a` and `b` as parameters and return a list of all the common factors of `a` and `b`."
   ]
  },
  {
   "cell_type": "code",
   "execution_count": null,
   "metadata": {},
   "outputs": [],
   "source": [
    "# YOUR_CODE_HERE"
   ]
  },
  {
   "cell_type": "markdown",
   "metadata": {},
   "source": [
    "This ease of creating collection that is analogous to how we define set is mathematics in Python is called **list comprehension**. Besides being a concise and efficient way to create lists, list comprehension helps to make the code more readable for someone who is trained in reading mathematical notation."
   ]
  },
  {
   "cell_type": "markdown",
   "metadata": {},
   "source": [
    "## Nested Lists \n",
    "As we have seen earlier, elements in a list could itself be a list. Such lists that  contain other lists as their elements is called a nested list. This allows you to create complex data structures, such as matrices or tables. \n",
    "\n",
    "A nested list is defined using square brackets, where each element of the list can itself be another list. \n",
    "\n",
    "#### Example\n",
    "We can represent the $3\\times 3$ matrix \n",
    "\n",
    "$$A = \\left(\\begin{array}{ccc}\n",
    "1 & 2 & 3\\\\\n",
    "4 & 5 & 6\\\\\n",
    "7 & 8 & 9\n",
    "\\end{array}\\right)$$\n",
    "\n",
    "as a nested list in Python as follows."
   ]
  },
  {
   "cell_type": "code",
   "execution_count": null,
   "metadata": {},
   "outputs": [],
   "source": [
    "A = [[1, 2, 3], [4, 5, 6], [7, 8, 9]]"
   ]
  },
  {
   "cell_type": "markdown",
   "metadata": {},
   "source": [
    "To access elements in a nested list, you use multiple indices: the first index selects the sublist, and the second index selects the specific element within that sublist. For instance, `A[1][2]` retrieves the value `6`, which the $(1,2)$ th entry of the nested list.\n",
    "\n",
    "If we stick with zero-indexing, this is analogous to how we write $(1,2)$ th entry of the matrix $A$ in mathematics which is $a_{12}$."
   ]
  },
  {
   "cell_type": "markdown",
   "metadata": {},
   "source": [
    "## Manipulating a List\n",
    "Lists are mutable, meaning you can add, remove, or modify elements after the list is created. The order of elements in a list is preserved, and you can access them using their index, starting from zero. For instance, if \n",
    "\n",
    "```python\n",
    "my_list = [1, 'hello', 3.5, True] \n",
    "```\n",
    "\n",
    "- `my_list[0]` would return `1`,\n",
    "- `my_list[1]` would return `'hello'`.\n"
   ]
  },
  {
   "cell_type": "markdown",
   "metadata": {},
   "source": [
    "# Useful Inbuild Python Functions \n",
    "Python has inbuilt functions that are particularly useful in doing mathematics. \n",
    "\n",
    "## `len()` Function \n",
    "When a list $L$ is passed into the `len()` function as a parameter, it returns the number of items in $L$. \n",
    "\n",
    "#### Example\n",
    "The code `len([1, 3, 4, 2])` returns `4`."
   ]
  },
  {
   "cell_type": "code",
   "execution_count": null,
   "metadata": {},
   "outputs": [
    {
     "name": "stdout",
     "output_type": "stream",
     "text": [
      "4\n"
     ]
    }
   ],
   "source": [
    "l = [1, 3, 4, 2]\n",
    "\n",
    "print(len(l))"
   ]
  },
  {
   "cell_type": "markdown",
   "metadata": {},
   "source": [
    "## `max()` and `min()` Functions\n",
    "The `max()` and `min()` functions in Python are built-in tools that can take in a list as a parameter and return the maximum and minimum values in a list respectively.\n",
    "\n",
    "#### Example\n",
    "```python\n",
    "numbers = [3, 7, 2, 9, 5]\n",
    "print(max(numbers))  # Output: 9\n",
    "print(min(numbers))  # Output: 2\n",
    "```"
   ]
  },
  {
   "cell_type": "markdown",
   "metadata": {},
   "source": [
    "#### Exercise\n",
    "Let $a$ and $b$ be positive integers. A common factor of $a$ and $b$ is a positive integer $k$ that is a factor of both $a$ and $b$. The highest of such integer is called the highest common divisor of $a$ and $b$, denoted as $\\operatorname{hcf}(a,b)$.\n",
    "\n",
    "Write a function $\\operatorname{hcf}$ that takes in 2 positive integer $a$ and $b$, and return the highest common factor of $a$ and $b$."
   ]
  },
  {
   "cell_type": "code",
   "execution_count": null,
   "metadata": {},
   "outputs": [],
   "source": [
    "# YOUR_CODE_HERE"
   ]
  },
  {
   "cell_type": "markdown",
   "metadata": {},
   "source": [
    "## `sum()` Function \n",
    "Similarly, if a list $L$ is passed in as a parameter, the function `sum()` computes the total of all elements in $L$. This function is valuable for summing sequences, calculating cumulative totals, or solving problems involving series. \n",
    "\n",
    "#### Example\n",
    "Write a function `my_sum()` that takes in an integer parameter $n$ and return the sum the first $n$ natural numbers.\n",
    "\n",
    "Test your program with $n = 100$."
   ]
  },
  {
   "cell_type": "code",
   "execution_count": null,
   "metadata": {},
   "outputs": [
    {
     "name": "stdout",
     "output_type": "stream",
     "text": [
      "5050\n"
     ]
    }
   ],
   "source": [
    "def my_sum(n):\n",
    "    l = [x for x in range(1, n + 1)]\n",
    "    return sum(l)\n",
    "\n",
    "print(my_sum(100))"
   ]
  },
  {
   "cell_type": "markdown",
   "metadata": {},
   "source": [
    "#### Exercise\n",
    "Write a function `my_mean()` that takes in a list of values $L$ and return the arithmetic mean of the values in $L$."
   ]
  },
  {
   "cell_type": "code",
   "execution_count": null,
   "metadata": {},
   "outputs": [],
   "source": [
    "# YOUR_CODE_HERE"
   ]
  },
  {
   "cell_type": "markdown",
   "metadata": {},
   "source": [
    "## `range()` Function\n",
    "The `range()` function, which we have encountered in the creation of lists, generates an memory-efficient object that represents a sequence of numbers in the computer. \n",
    "\n",
    "It has the syntax \n",
    "\n",
    "```python\n",
    "range(start, stop, step)\n",
    "```\n",
    "\n",
    "It returns an object that produces a sequence of integers from `start` (inclusive) to `stop` (exclusive) by `step` amount.\n",
    "\n",
    "\n",
    "#### Example\n",
    "Write a program to create a list of the odd positive integers below 30 and print it."
   ]
  },
  {
   "cell_type": "code",
   "execution_count": null,
   "metadata": {},
   "outputs": [
    {
     "name": "stdout",
     "output_type": "stream",
     "text": [
      "[1, 3, 5, 7, 9, 11, 13, 15, 17, 19, 21, 23, 25, 27, 29]\n"
     ]
    }
   ],
   "source": [
    "l = [x for x in range(1, 31, 2)]\n",
    "\n",
    "print(l)"
   ]
  },
  {
   "cell_type": "markdown",
   "metadata": {},
   "source": [
    "## Typecasting Functions \n",
    "Typecasting functions like `int()`, `float()`, and `list()` enable smooth transitions between different data formats. They convert the string inputs into their associated intended data type.\n",
    "\n",
    "For instance, converting a string `\"5\"` to an integer using `int(\"5\")` ensures compatibility with arithmetic operations, while `float(\"3.14\")` converts the string `\"3.14\"` to the float `3.14`. \n",
    "\n",
    "The `list()` function can transform a `range` object into a list, which is helpful for creating sequences. \n",
    "\n",
    "Conversely, we can convert integer and float objects into string objects by using the `str()` typecasting function.\n",
    "\n",
    "#### Example\n",
    "Write a program to create a list of the odd positive integers below 30 and print it."
   ]
  },
  {
   "cell_type": "code",
   "execution_count": null,
   "metadata": {},
   "outputs": [
    {
     "data": {
      "text/plain": [
       "[1, 3, 5, 7, 9, 11, 13, 15, 17, 19, 21, 23, 25, 27, 29]"
      ]
     },
     "execution_count": 9,
     "metadata": {},
     "output_type": "execute_result"
    }
   ],
   "source": [
    "list(range(1, 31, 2))"
   ]
  },
  {
   "cell_type": "markdown",
   "metadata": {},
   "source": [
    "#### Example\n",
    "Write a **function** named `main` that:\n",
    "- takes in no a parameter \n",
    "- asks user to input a float value $r$\n",
    "- output the following string \n",
    "\n",
    "```python\n",
    "'The area of the circle with radius {r} is {area} unit square',\n",
    "```\n",
    "\n",
    "where `{r}` and `{area}` should correspond to the float $r$ and the area of the circle with radius $r$ respectively."
   ]
  },
  {
   "cell_type": "code",
   "execution_count": null,
   "metadata": {},
   "outputs": [],
   "source": [
    "# YOUR_CODE_HERE"
   ]
  },
  {
   "cell_type": "markdown",
   "metadata": {},
   "source": [
    "## `type()` Function\n",
    "`type()` determines the data type of a value or variable, such as `type(3.14)` returning `<class 'float'>`. This function is crucial in debugging or ensuring compatibility in operations where specific data types are required."
   ]
  },
  {
   "cell_type": "markdown",
   "metadata": {},
   "source": [
    "Typecasting functions are often used together with `input()` as `input()` statement  stores user input as a `str` object. Therefore, we use the typecasting functions to convert the input into usable datatype first.\n",
    "\n",
    "#### Example\n",
    "Write a program that asks user to input a number and print out the square of the number."
   ]
  },
  {
   "cell_type": "code",
   "execution_count": null,
   "metadata": {},
   "outputs": [
    {
     "name": "stdout",
     "output_type": "stream",
     "text": [
      "<class 'str'>\n",
      "<class 'float'>\n",
      "26.009999999999998\n"
     ]
    }
   ],
   "source": [
    "a = input('Please enter a number')\n",
    "\n",
    "print(type(a))\n",
    "\n",
    "a = float(a)\n",
    "\n",
    "print(type(a))\n",
    "\n",
    "print(a**2)"
   ]
  },
  {
   "cell_type": "markdown",
   "metadata": {},
   "source": [
    "#### Exercise\n",
    "A positive integer $p$ is called a **prime** number if the only divisors of $p$ is $1$ and $p$ itself.\n",
    "\n",
    "Write a function `is_prime()` that takes in a positive integer $x$ and returns Boolean `True` if $x$ is a prime number and `False` otherwise."
   ]
  },
  {
   "cell_type": "code",
   "execution_count": null,
   "metadata": {},
   "outputs": [],
   "source": [
    "# YOUR_CODE_HERE"
   ]
  },
  {
   "cell_type": "markdown",
   "metadata": {},
   "source": [
    "#### Exercise\n",
    "A positive integer $p$ is called a **prime** number if the only divisors of $p$ is $1$ and $p$ itself.\n",
    "\n",
    "Write a function `is_prime()` that takes in a positive integer $x$ and returns Boolean `True` if $x$ is a prime number and `False` otherwise."
   ]
  },
  {
   "cell_type": "code",
   "execution_count": null,
   "metadata": {},
   "outputs": [],
   "source": [
    "# YOUR_CODE_HERE"
   ]
  },
  {
   "cell_type": "markdown",
   "metadata": {},
   "source": [
    "#### Exercise\n",
    "Write a function `find_prime_factors()` that takes in a positive integer $x$ and return a list of all the prime factors of $x$."
   ]
  },
  {
   "cell_type": "code",
   "execution_count": null,
   "metadata": {},
   "outputs": [],
   "source": [
    "# YOUR_CODE_HERE"
   ]
  },
  {
   "cell_type": "markdown",
   "metadata": {},
   "source": [
    "#### Exercise\n",
    "Write a function `next_prime()` that takes in two positive integers $x$ and $a$ and return the integer $p$ such that $p$ is a prime and $x<p \\leq a$."
   ]
  },
  {
   "cell_type": "code",
   "execution_count": null,
   "metadata": {},
   "outputs": [],
   "source": [
    "# YOUR_CODE_HERE"
   ]
  },
  {
   "cell_type": "markdown",
   "metadata": {},
   "source": [
    "#### Exercise\n",
    "The $n$ th triangular number is obtained by taking the sum of the first $n$ natural numbers i.e., $1, 2, 3, 4, 5, \\cdots, n$.\n",
    "\n",
    "The first 4 triangular numbers are:\n",
    "- 1st : $1$\n",
    "- 2nd : $3 = 1 + 2$\n",
    "- 3rd : $6 = 3 + 3$\n",
    "- 4th : $10 = 6 + 4$\n",
    "\n",
    "Write a function `triangle()` that takes in an integer $n$ and returns the list of the first $n$ triangular number.\n",
    "\n",
    "Test your function with $n = 50$."
   ]
  },
  {
   "cell_type": "code",
   "execution_count": null,
   "metadata": {},
   "outputs": [],
   "source": [
    "# YOUR_CODE_HERE"
   ]
  }
 ],
 "metadata": {
  "kernelspec": {
   "display_name": "Python 3",
   "language": "python",
   "name": "python3"
  },
  "language_info": {
   "codemirror_mode": {
    "name": "ipython",
    "version": 3
   },
   "file_extension": ".py",
   "mimetype": "text/x-python",
   "name": "python",
   "nbconvert_exporter": "python",
   "pygments_lexer": "ipython3",
   "version": "3.12.1"
  }
 },
 "nbformat": 4,
 "nbformat_minor": 2
}
